{
 "cells": [
  {
   "cell_type": "code",
   "execution_count": 1,
   "metadata": {},
   "outputs": [],
   "source": [
    "import numpy as np\n",
    "import cvxpy as cp\n",
    "import matplotlib.pyplot as plt"
   ]
  },
  {
   "cell_type": "code",
   "execution_count": null,
   "metadata": {},
   "outputs": [],
   "source": [
    "X_1 = np.array([[1,1],[2,1.5],[0.5,2],[0.5,0]])\n",
    "# X_1 = np.array([[1,1],[2,1.5],[0.5,2]])\n",
    "X_2 = np.array([[-1,0.5],[-0.5,-0.75,],[1,-1]])\n",
    "\n",
    "fig = plt.figure()\n",
    "ax = fig.gca()\n",
    "plt.plot(X_1[:,0], X_1[:,1], 'o')\n",
    "plt.plot(X_2[:,0], X_2[:,1], 'x')\n",
    "ax.set_aspect('equal')"
   ]
  },
  {
   "cell_type": "code",
   "execution_count": null,
   "metadata": {},
   "outputs": [],
   "source": [
    "h_1 = cp.Variable(1)\n",
    "h_2 = cp.Variable(1)\n",
    "H = cp.Variable(2)\n",
    "\n",
    "# cost = cp.abs(h_1 - h_2) - 0.001*cp.quad_form(H, np.eye(2))\n",
    "# constr = []\n",
    "# for i in range(X_1.shape[1]):\n",
    "#     constr += [H*X_1[i] + h_1 <= 0]\n",
    "#     constr += [H*X_2[i] + h_2 <= 0]    \n",
    "# constr += [cp.power(h_1 - h_2, 2) - 0.01*cp.quad_form(H, np.eye(2)) >= 0]\n",
    "\n",
    "cost = cp.quad_form(H, np.eye(2)) + h_1 + h_2\n",
    "constr = []\n",
    "for i in range(X_1.shape[0]):\n",
    "    constr += [H*X_1[i] >= 0]\n",
    "    constr += [H*X_1[i] + h_1 >= 0]\n",
    "    constr += [-H*X_1[i] + h_2 <= 0]\n",
    "for i in range(X_2.shape[0]):\n",
    "    constr += [-H*X_2[i] >= 0]\n",
    "    constr += [H*X_2[i] + h_1 <= 0]\n",
    "    constr += [-H*X_2[i] + h_2 >= 0]\n",
    "constr += [h_1 <= 0, h_2 <= 0]\n",
    "# constr += [cp.power(h_1 - h_2, 2) - 0.01*cp.quad_form(H, np.eye(2)) >= 0]\n",
    "\n",
    "problem = cp.Problem(cp.Minimize(cost), constr)\n",
    "problem.solve(solver=cp.MOSEK, verbose=False)\n",
    "\n",
    "print(problem.status)\n",
    "print(cost.value)\n",
    "print(H.value)\n",
    "print(h_1.value)\n",
    "print(h_2.value)\n",
    "\n",
    "if np.linalg.norm(H.value) != 0:\n",
    "    d = np.abs(h_1.value-h_2.value)/np.linalg.norm(H.value)\n",
    "    print(d)\n",
    "\n",
    "    x = np.linspace(-1, 2, 100)\n",
    "    y_1 = (-H.value[0]*x-h_1.value)/H.value[1]\n",
    "    y_2 = (H.value[0]*x-h_2.value)/(-H.value[1])\n",
    "\n",
    "    fig = plt.figure()\n",
    "    ax = fig.gca()\n",
    "    plt.plot(X_1[:,0], X_1[:,1], 'bo')\n",
    "    plt.plot(X_2[:,0], X_2[:,1], 'rx')\n",
    "    plt.plot(x, y_1, 'b')\n",
    "    plt.plot(x, y_2, 'r')\n",
    "    ax.set_aspect('equal')\n",
    "    ax.set_ylim([-1.5, 2.5])\n"
   ]
  },
  {
   "cell_type": "code",
   "execution_count": null,
   "metadata": {},
   "outputs": [],
   "source": [
    "from scipy import linalg as sla\n",
    "A = np.eye(2)\n",
    "B = np.ones((2,3))\n",
    "C = np.ones((3,3))\n",
    "M = [A, B, C]\n",
    "N = sla.block_diag(*M)\n",
    "print(N)"
   ]
  },
  {
   "cell_type": "code",
   "execution_count": null,
   "metadata": {},
   "outputs": [],
   "source": [
    "ss_t = range(10)\n",
    "ss_n_it = [2,2,1,1,1,2,2,2,2,2]\n",
    "ss_n_ts = [[10,10], [10,10], [7], [10], []]"
   ]
  }
 ],
 "metadata": {
  "kernelspec": {
   "display_name": "Python 2",
   "language": "python",
   "name": "python2"
  },
  "language_info": {
   "codemirror_mode": {
    "name": "ipython",
    "version": 2
   },
   "file_extension": ".py",
   "mimetype": "text/x-python",
   "name": "python",
   "nbconvert_exporter": "python",
   "pygments_lexer": "ipython2",
   "version": "2.7.17"
  }
 },
 "nbformat": 4,
 "nbformat_minor": 2
}
